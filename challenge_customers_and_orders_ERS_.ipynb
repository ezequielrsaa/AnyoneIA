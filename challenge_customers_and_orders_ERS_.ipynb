{
  "cells": [
    {
      "cell_type": "markdown",
      "metadata": {
        "id": "piiX_CRNFYUi"
      },
      "source": [
        "# Technical Challenge ! Custiomers and Orders - The lifeblood of any business!\n",
        "\n",
        "This notebook depends on two data files: customers.scv and orders.csv. These files are hosted in the cloud (or Github), so for simplicity, we are providing you with the code to download and save the two files in a folder called 'sample_data' which lives within this notebook session (not on your local computer nor Google Drive).\n",
        "\n",
        "![sample_data folder in notebook session](https://raw.githubusercontent.com/anyoneai/notebooks/main/customers_and_orders/images/sample_data_folder.png)\n",
        "\n",
        "Please execute the first code snippet before moving to the rest of the exercise as this code will import the data from the files for you to be able to execute the rest of the exercise.\n",
        "\n",
        "Remember as we said in the previous lecture, you have to save this notebook into your Google Drive by going to menu File/Save a Copy In Drive, or clicking in the button \"Copy to Drive\". This way, you will not lose any work you've done and the file will persist with your latest changes in your Google Drive. Also we recommend you to rename your .ipynb in your Google Drive, so you can easily find it in the future."
      ]
    },
    {
      "cell_type": "code",
      "execution_count": 1,
      "metadata": {
        "colab": {
          "base_uri": "https://localhost:8080/"
        },
        "id": "MWpVO242FQHC",
        "outputId": "fbd1ca0d-5488-4627-997c-f31f4e4d0999"
      },
      "outputs": [
        {
          "output_type": "stream",
          "name": "stdout",
          "text": [
            "Customers and orders CSV files have been added './sample_data'\n"
          ]
        }
      ],
      "source": [
        "import requests\n",
        "\n",
        "def import_data_files():\n",
        "  r = requests.get('https://raw.githubusercontent.com/anyoneai/notebooks/main/customers_and_orders/data/customers.csv')\n",
        "  with open('./sample_data/customers.csv', 'wb') as f:\n",
        "    f.write(r.content)\n",
        "\n",
        "  r = requests.get('https://raw.githubusercontent.com/anyoneai/notebooks/main/customers_and_orders/data/orders.csv')\n",
        "  with open('./sample_data/orders.csv', 'wb') as f:\n",
        "    f.write(r.content)\n",
        "\n",
        "import_data_files()\n",
        "print(\"Customers and orders CSV files have been added './sample_data'\")"
      ]
    },
    {
      "cell_type": "markdown",
      "metadata": {
        "id": "JQAduY-RWKyB"
      },
      "source": [
        "# Exercise 1: Processing Customers data (difficulty medium)\n",
        "\n",
        "The sample customer data in 'customers.csv' file has just 5 columns: CustomerId, First Name, Last Name, City and State\n",
        "\n",
        "![Data sample](https://raw.githubusercontent.com/anyoneai/notebooks/main/customers_and_orders/images/customers.png)\n",
        "\n",
        "We strongly recommend that you complete from the [Prep Course: Intro to Python](https://colab.research.google.com/github/anyoneai/notebooks/blob/main/python3_crash_course.ipynb) the following section:\n",
        "- Section 7: File I/O (to understand how to read CSV file)\n",
        "- Section 6: For Loop (to navigate the contents of the CSV file)\n",
        "- Section 5: Tuples, Lists, and Dictionaries (to manipulate the data of the CSV file)\n",
        "\n",
        "With this, we hope you can complete this exercise successfully. Although if you want to solve this with libraries or any other way, you are welcome to do it your way.\n",
        "\n",
        "*Hint:* We advise you to take a look at the data before you start.\n",
        "**if you want to manually take a look at the data before you start, please see the content of the data [here](https://github.com/anyoneai/notebooks/blob/main/customers_and_orders/data/customers.csv).\n",
        "\n",
        "*Hint*: There are many ways to do this exercise you can do your own, although here's some help. You can solve this exercise reading and parsing CSV files, structuring data into dictionaries, and using for loops to navigate the contents\n",
        "\n",
        "*Hint*: Also, keep in mind that data might not be clean and you might have to figure out how to deal with that data from the code, without having to modify the data source.\n",
        "\n",
        "Below are the 5 questions you'll have to answer to pass the evaluation:"
      ]
    },
    {
      "cell_type": "markdown",
      "metadata": {
        "id": "kJq7S8sBfbOW"
      },
      "source": [
        "**Question 1:** How many customers are in the file?\n",
        "(as help, we have added some comments and starter code to help you structure the solution)"
      ]
    },
    {
      "cell_type": "code",
      "execution_count": 8,
      "metadata": {
        "colab": {
          "base_uri": "https://localhost:8080/"
        },
        "id": "oMnUFBFb2RUb",
        "outputId": "a36a8f25-a672-48e8-b2ac-7c3de60e25f9"
      },
      "outputs": [
        {
          "output_type": "stream",
          "name": "stdout",
          "text": [
            "Total Customers in file: 602\n",
            "All done!\n"
          ]
        }
      ],
      "source": [
        "from os.path import exists\n",
        "import csv\n",
        "\n",
        "# check if file can be found and open the file\n",
        "datafile = \"./sample_data/customers.csv\"\n",
        "if not exists(datafile):\n",
        "  raise SystemExit(\"You should run the first code cell and download the dataset files!\")\n",
        "\n",
        "# customers file is in the sample_data folder and can be opened.\n",
        "# Using csv reader is one way of dealing with the file\n",
        "# but it's up to you how you want to proceed\n",
        "with open(datafile, 'r') as fl:\n",
        "  csvreader = csv.reader(fl, delimiter=',')\n",
        "\n",
        "  # loop through the rows and count etc. THE REST IS UP TO YOU!\n",
        "  next(csvreader)  # avoid header\n",
        "\n",
        "  # loop throw rows and count\n",
        "  customer_count = sum(1 for row in csvreader)\n",
        "\n",
        "print(f\"Total Customers in file: {customer_count}\")\n",
        "\n",
        "print(\"All done!\")"
      ]
    },
    {
      "cell_type": "markdown",
      "metadata": {
        "id": "uffBnNgz_570"
      },
      "source": [
        "**Question 2:** In how many different states do the customers live in?"
      ]
    },
    {
      "cell_type": "code",
      "execution_count": 15,
      "metadata": {
        "id": "Bi_yid0sMe3-",
        "colab": {
          "base_uri": "https://localhost:8080/"
        },
        "outputId": "ad4da314-4feb-44b4-8cff-5f0fe2c88554"
      },
      "outputs": [
        {
          "output_type": "stream",
          "name": "stdout",
          "text": [
            "Number of different states where customers lives in : 15\n"
          ]
        }
      ],
      "source": [
        "# open file and init vars\n",
        "# evaluate the contents of the file\n",
        "from os.path import exists\n",
        "import csv\n",
        "\n",
        "# check if file can be found and open the file\n",
        "datafile = \"./sample_data/customers.csv\"\n",
        "if not exists(datafile):\n",
        "    raise SystemExit(\"You should run the first code cell and download the dataset files!\")\n",
        "a=[]\n",
        "# open the file an iterate counting different states\n",
        "with open(datafile, 'r') as fl:\n",
        "    csvreader = csv.reader(fl, delimiter=',')\n",
        "    header = next(csvreader)  # avoid header\n",
        "\n",
        "    # find index for 'State' column\n",
        "    state_index = header.index('State')\n",
        "\n",
        "    # declare a var to save different states\n",
        "    unique_states = set()\n",
        "\n",
        "    # loop rows adding different states into the set\n",
        "    for row in csvreader:\n",
        "        unique_states.add(row[state_index].strip())\n",
        "\n",
        "# count of states\n",
        "state_count = len(unique_states)\n",
        "\n",
        "print(f\"Number of different states where customers lives in : {state_count}\")"
      ]
    },
    {
      "cell_type": "markdown",
      "metadata": {
        "id": "DC59SZYiMfNY"
      },
      "source": [
        "**Question 3** What is the state with most customers?"
      ]
    },
    {
      "cell_type": "code",
      "execution_count": 20,
      "metadata": {
        "id": "tfGU3w-OMhA9",
        "colab": {
          "base_uri": "https://localhost:8080/"
        },
        "outputId": "7388c7e1-917b-4f96-f015-23637cf5a21a"
      },
      "outputs": [
        {
          "output_type": "stream",
          "name": "stdout",
          "text": [
            "The state with most customers is CA with 567 customers.\n"
          ]
        }
      ],
      "source": [
        "from os.path import exists\n",
        "import csv\n",
        "from collections import Counter\n",
        "\n",
        "# check if file can be found and open the file\n",
        "datafile = \"./sample_data/customers.csv\"\n",
        "if not exists(datafile):\n",
        "  raise SystemExit(\"You should run the first code cell and download the dataset files!\")\n",
        "\n",
        "# customers file is in the sample_data folder and can be opened.\n",
        "# Using csv reader is one way of dealing with the file\n",
        "# but it's up to you how you want to proceed\n",
        "with open(datafile, 'r') as fl:\n",
        "  csvreader = csv.reader(fl, delimiter=',')\n",
        "\n",
        "  # loop through the rows and count etc. THE REST IS UP TO YOU!\n",
        "  next(csvreader)  # avoid header\n",
        "\n",
        "  # Initialize a Counter object to count the states\n",
        "  state_counter = Counter()\n",
        "\n",
        "  # Loop through the rows\n",
        "  for row in csvreader:\n",
        "    # The state is in the 4th column (index 3)\n",
        "    state = row[4].strip()  # strip to remove leading/trailing whitespaces\n",
        "\n",
        "    # Increment the count of the state\n",
        "    state_counter[state] += 1\n",
        "\n",
        "# Find the state with most customers\n",
        "most_common_state, count = state_counter.most_common(1)[0]\n",
        "\n",
        "print(f\"The state with most customers is {most_common_state} with {count} customers.\")"
      ]
    },
    {
      "cell_type": "markdown",
      "metadata": {
        "id": "7mcM6cUAMhLB"
      },
      "source": [
        "**Question 4** What is the state with the least customers?"
      ]
    },
    {
      "cell_type": "code",
      "execution_count": 5,
      "metadata": {
        "id": "8T0Ka2RqMi3P",
        "colab": {
          "base_uri": "https://localhost:8080/"
        },
        "outputId": "707de1e3-1e92-404d-c02f-88e39a98dc0c"
      },
      "outputs": [
        {
          "output_type": "stream",
          "name": "stdout",
          "text": [
            "The state(s) with the least customers are WA, NH, ID, OR, MA, IN with 1 customers each.\n"
          ]
        }
      ],
      "source": [
        "from os.path import exists\n",
        "import csv\n",
        "from collections import Counter\n",
        "\n",
        "# check if file can be found and open the file\n",
        "datafile = \"./sample_data/customers.csv\"\n",
        "if not exists(datafile):\n",
        "  raise SystemExit(\"You should run the first code cell and download the dataset files!\")\n",
        "\n",
        "# customers file is in the sample_data folder and can be opened.\n",
        "# Using csv reader is one way of dealing with the file\n",
        "# but it's up to you how you want to proceed\n",
        "with open(datafile, 'r') as fl:\n",
        "  csvreader = csv.reader(fl, delimiter=',')\n",
        "\n",
        "  # loop through the rows and count etc. THE REST IS UP TO YOU!\n",
        "  next(csvreader)  # avoid header\n",
        "\n",
        "  # Initialize a Counter object to count the states\n",
        "  state_counter = Counter()\n",
        "\n",
        "  # Loop through the rows\n",
        "  for row in csvreader:\n",
        "    # The state is in the 4th column (index 3)\n",
        "    state = row[4].strip()  # strip to remove leading/trailing whitespaces\n",
        "    # Increment the count of the state\n",
        "    state_counter[state] += 1\n",
        "\n",
        "# Get the count of the least common state\n",
        "least_common_count = state_counter.most_common()[-1][1]\n",
        "\n",
        "# Find all states with the least count\n",
        "least_common_states = [state for state, count in state_counter.items() if count == least_common_count]\n",
        "\n",
        "print(f\"The state(s) with the least customers are {', '.join(least_common_states)} with {least_common_count} customers each.\")"
      ]
    },
    {
      "cell_type": "markdown",
      "metadata": {
        "id": "h6fIy7hXHF6A"
      },
      "source": [
        "**Question 5:** What is the most common last name?"
      ]
    },
    {
      "cell_type": "code",
      "execution_count": 25,
      "metadata": {
        "id": "k8M1DmA75Km7",
        "colab": {
          "base_uri": "https://localhost:8080/"
        },
        "outputId": "8ad60f73-d180-4402-c148-b67a1e740dfc"
      },
      "outputs": [
        {
          "output_type": "stream",
          "name": "stdout",
          "text": [
            "The most common last name(s) are Smith with 8 occurrences each.\n"
          ]
        }
      ],
      "source": [
        "from os.path import exists\n",
        "import csv\n",
        "from collections import Counter\n",
        "\n",
        "# check if file can be found and open the file\n",
        "datafile = \"./sample_data/customers.csv\"\n",
        "if not exists(datafile):\n",
        "  raise SystemExit(\"You should run the first code cell and download the dataset files!\")\n",
        "\n",
        "# customers file is in the sample_data folder and can be opened.\n",
        "# Using csv reader is one way of dealing with the file\n",
        "# but it's up to you how you want to proceed\n",
        "with open(datafile, 'r') as fl:\n",
        "  csvreader = csv.reader(fl, delimiter=',')\n",
        "\n",
        "  # loop through the rows and count etc. THE REST IS UP TO YOU!\n",
        "  next(csvreader)  # avoid header\n",
        "\n",
        "  # Initialize a Counter object to count the last names\n",
        "  last_name_counter = Counter()\n",
        "\n",
        "  # Loop through the rows\n",
        "  for row in csvreader:\n",
        "    # The last name is in the 3rd column (index 2)\n",
        "    last_name = row[2].strip()  # strip to remove leading/trailing whitespaces\n",
        "    # Increment the count of the last name\n",
        "    last_name_counter[last_name] += 1\n",
        "\n",
        "# Get the count of the most common last name\n",
        "most_common_count = last_name_counter.most_common(1)[0][1]\n",
        "\n",
        "# Find all last names with the most common count\n",
        "most_common_last_names = [last_name for last_name, count in last_name_counter.items() if count == most_common_count]\n",
        "\n",
        "print(f\"The most common last name(s) are {', '.join(most_common_last_names)} with {most_common_count} occurrences each.\")"
      ]
    },
    {
      "cell_type": "markdown",
      "metadata": {
        "id": "YPRma1t9NoFk"
      },
      "source": [
        "# Exercise 2: Processing Orders data (difficulty high)\n",
        "\n",
        "The second sample files contains orders placed by customers from the first file. Be careful, this file has many rows and you most likely should not print the contents of the whole file.\n",
        "\n",
        "The file contains the following columns: CustomerID, OrderID, Date, OrderTotal, ProductName, Price\n",
        "\n",
        "![Data sample](https://raw.githubusercontent.com/anyoneai/notebooks/main/customers_and_orders/images/orders.png)\n",
        "\n",
        "*Hint:* We advise you to take a look at the data before you start.\n",
        "**if you want to manually take a look at the data before you start, please see the content of the data [here](https://raw.githubusercontent.com/anyoneai/notebooks/main/customers_and_orders/data/orders.csv).\n",
        "\n",
        "*Hint*: There are many ways to do this exercise you can do your own, although here's some help. You can solve this exercise reading and parsing CSV files, structuring data into dictionaries, and using for loops to navigate the contents\n",
        "\n",
        "*Hint*: Also, the data is not clean and you will have to figure out how to deal with that data from the code, without having to modify the data source.\n",
        "\n",
        "\n",
        "\n",
        "**Question #1:** How many unique orders are in the orders.csv file?\n",
        "\n",
        "**Question #2:** What is the average number of items per order (rounded to two decimal places)?\n",
        "\n",
        "**Question #3:** What is the highest number of items per order?\n",
        "\n",
        "**Question #4:** What is the number of orders placed in October 2021?\n",
        "\n",
        "**Question #5:** Which customer spent the most amount of money in 2021?\n",
        "\n",
        "**Question #6:** Historically, what is the best month for sales?\n",
        "\n",
        "Once you get your answers, remember to go back to the course and introduce them in the multiple choice quiz"
      ]
    },
    {
      "cell_type": "code",
      "execution_count": 50,
      "metadata": {
        "id": "8ipJTrfs5QVM",
        "colab": {
          "base_uri": "https://localhost:8080/"
        },
        "outputId": "c3d83c50-91af-4019-8c22-0615c46a71a3"
      },
      "outputs": [
        {
          "output_type": "stream",
          "name": "stdout",
          "text": [
            "There are 16672 unique orders in the orders.csv file.\n",
            "The average number of items per order is 1.76.\n",
            "The highest number of items per order is 35.\n",
            "The number of orders placed in October 2021 is 267.\n",
            "The customer who spent the most amount of money in 2021 is customer 5172443.\n",
            "The best month for sales historically is month 1.\n"
          ]
        }
      ],
      "source": [
        "# This code may have some extra validations of data\n",
        "# Also it should be refactored to extract functions first of all in nested if conditions inside the for loop\n",
        "# I focused in getting the results\n",
        "#TY very much for this great oportunity, hope i get selected to move on !!\n",
        "\n",
        "# open and evaluate orders.csvfrom os.path import exists\n",
        "import csv\n",
        "from collections import Counter\n",
        "from collections import defaultdict\n",
        "from datetime import datetime\n",
        "\n",
        "# check if file can be found and open the file\n",
        "datafile = \"./sample_data/orders.csv\"\n",
        "if not exists(datafile):\n",
        "  raise SystemExit(\"You should run the first code cell and download the dataset files!\")\n",
        "\n",
        "with open(datafile, 'r') as fl:\n",
        "  csvreader = csv.reader(fl, delimiter=',')\n",
        "\n",
        "  # Skip the header\n",
        "  next(csvreader)\n",
        "\n",
        "  # Initialize a Counter object to count the orders\n",
        "  order_counter = Counter()\n",
        "\n",
        "  # Initialize a defaultdict to count the items per order\n",
        "  items_per_order = defaultdict(int)\n",
        "\n",
        "  # Initialize a counter for the number of orders in October 2021\n",
        "  october_orders = 0\n",
        "\n",
        "  # Initialize a defaultdict to store the total spending of each customer in 2021\n",
        "  customer_spending = defaultdict(float)\n",
        "\n",
        "  # Initialize a set to keep track of the orders that have been processed\n",
        "  processed_orders = set()\n",
        "\n",
        "  # Initialize a defaultdict to store the total sales for each month\n",
        "  sales_per_month = defaultdict(float)\n",
        "\n",
        "  # Loop through the rows\n",
        "  for row in csvreader:\n",
        "    # The CustomerID is in the 1st column (index 0)\n",
        "    customer_id = row[0].strip()  # strip to remove leading/trailing whitespaces\n",
        "\n",
        "    # The OrderID is in the 2nd column (index 1)\n",
        "    order = row[1].strip()  # strip to remove leading/trailing whitespaces\n",
        "    # Increment the count of the order\n",
        "    order_counter[order] += 1\n",
        "\n",
        "    # The Date is in the 3rd column (index 2)\n",
        "    date_str = row[2].strip()  # strip to remove leading/trailing whitespaces\n",
        "\n",
        "    # The OrderTotal is in the 4th column (index 3)\n",
        "    order_total = float(row[3].strip())  # strip to remove leading/trailing whitespaces and convert to float\n",
        "\n",
        "\n",
        "    if date_str != '' :\n",
        "      # Convert the date string to a datetime object\n",
        "      date = datetime.strptime(date_str, \"%Y-%m-%d %H:%M:%S.%f\")\n",
        "      if order not in processed_orders :\n",
        "        # Add the order total to the month's total sales\n",
        "        sales_per_month[date.month] += order_total\n",
        "        # Add the order to the set of processed orders\n",
        "        processed_orders.add(order)\n",
        "        # Check if the order was placed in October 2021\n",
        "        if date.year == 2021 :\n",
        "          # Add the order total to the customer's total spending\n",
        "          customer_spending[customer_id] += order_total\n",
        "          if date.month == 10:\n",
        "            # Increment the counter\n",
        "            october_orders += 1\n",
        "\n",
        "# Question #1: How many unique orders are in the orders.csv file?\n",
        "# Get the number of unique orders\n",
        "unique_orders = len(order_counter)\n",
        "print(f\"There are {unique_orders} unique orders in the orders.csv file.\")\n",
        "\n",
        "\n",
        "\n",
        "# Question #2: What is the average number of items per order (rounded to two decimal places)?\n",
        "# Calculate the average number of items per order\n",
        "average_items = sum(order_counter.values()) / len(order_counter)\n",
        "# Print the average number of items per order, rounded to two decimal places\n",
        "print(f\"The average number of items per order is {round(average_items, 2)}.\")\n",
        "\n",
        "# Question #3: What is the highest number of items per order?\n",
        "# Get the highest number of items per order\n",
        "highest_items = max(order_counter.values())\n",
        "# Calculate the highest number of items per order\n",
        "print(f\"The highest number of items per order is {highest_items}.\")\n",
        "\n",
        "## IMPORTANT I SUBMITED AN ERROR IN THE RESPONSE SINCE I FORGOT TO SKIP DUPLICATED ORDERS DUE TO\n",
        "## MULTIPLE ITEMS IN THE ORDER I THINK IT SHOULD BE 267\n",
        "# Question #4: What is the number of orders placed in October 2021?\n",
        "# Calculate the orders placed in october 2021\n",
        "print(f\"The number of orders placed in October 2021 is {october_orders}.\")\n",
        "\n",
        "# Question #5: Which customer spent the most amount of money in 2021?\n",
        "# Get the customer who spent the most amount of money in 2021\n",
        "max_spending_customer = max(customer_spending, key=customer_spending.get)\n",
        "print(f\"The customer who spent the most amount of money in 2021 is customer {max_spending_customer}.\")\n",
        "\n",
        "# Question #6: Historically, what is the best month for sales?\n",
        "# Get the month with the highest total sales\n",
        "best_month = max(sales_per_month, key=sales_per_month.get)\n",
        "print(f\"The best month for sales historically is month {best_month}.\")"
      ]
    },
    {
      "cell_type": "markdown",
      "metadata": {
        "id": "ie0JW4FAk6Os"
      },
      "source": [
        "# Finished!\n",
        "\n",
        "Hope this was not too difficult and slicing and dicing the datasets was some fun. Now head on back to the course and provide the answers to the questions from this exercise."
      ]
    },
    {
      "cell_type": "code",
      "source": [
        "# ALL FINAL RESULTS ARE :\n",
        "#There are 16672 unique orders in the orders.csv file.\n",
        "#The average number of items per order is 1.76.\n",
        "#The highest number of items per order is 35.\n",
        "#The number of orders placed in October 2021 is 267.\n",
        "#The customer who spent the most amount of money in 2021 is customer 5172443.\n",
        "#The best month for sales historically is month 1."
      ],
      "metadata": {
        "id": "cl0lWvVswD1f"
      },
      "execution_count": 49,
      "outputs": []
    }
  ],
  "metadata": {
    "colab": {
      "provenance": []
    },
    "kernelspec": {
      "display_name": "Python 3 (ipykernel)",
      "language": "python",
      "name": "python3"
    },
    "language_info": {
      "codemirror_mode": {
        "name": "ipython",
        "version": 3
      },
      "file_extension": ".py",
      "mimetype": "text/x-python",
      "name": "python",
      "nbconvert_exporter": "python",
      "pygments_lexer": "ipython3",
      "version": "3.9.9"
    }
  },
  "nbformat": 4,
  "nbformat_minor": 0
}